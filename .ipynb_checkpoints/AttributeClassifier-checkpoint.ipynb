{
 "cells": [
  {
   "cell_type": "markdown",
   "metadata": {},
   "source": [
    "# Attribute Prediction Model Training\n",
    "\n",
    "This notebook will contain the code to initialize and train the attribute prediction models, which will be used as a backbone for the captioning. We train two models for comparison - a Swin Transformer (swin_t, our proposed model) and a ResNet-34"
   ]
  },
  {
   "cell_type": "code",
   "execution_count": null,
   "metadata": {},
   "outputs": [],
   "source": [
    "import os\n",
    "import numpy as np\n",
    "import cv2\n",
    "import torch, torchvision\n",
    "import copy\n",
    "from torchsummary import summary\n",
    "from utils.train_funcs import fit_classifier\n",
    "\n",
    "\n",
    "device = 'cpu'\n",
    "if torch.cuda.is_available():\n",
    "    device = 'cuda'\n",
    "\n",
    "print(device)"
   ]
  },
  {
   "cell_type": "code",
   "execution_count": null,
   "metadata": {},
   "outputs": [],
   "source": [
    "# Loading Data\n",
    "from utils.load_funcs import get_data_loaders\n",
    "\n",
    "# Create DataLoader instances\n",
    "train_loader, val_loader = get_data_loaders()\n",
    "images, labels, _ = next(iter(train_loader))\n",
    "print(images.shape)\n",
    "print(labels.shape)"
   ]
  },
  {
   "cell_type": "code",
   "execution_count": null,
   "metadata": {},
   "outputs": [],
   "source": [
    "# Initialize swin transformer backbone with ImageNet weights\n",
    "backbone = torchvision.models.swin_t(weights='IMAGENET1K_V1')\n",
    "# Remove classifier head\n",
    "backbone.head = torch.nn.Identity()"
   ]
  },
  {
   "cell_type": "code",
   "execution_count": null,
   "metadata": {},
   "outputs": [],
   "source": [
    "# Defining the classifier (Swin Transfomer Model)\n",
    "attribute_classes = [\n",
    "    6, 5, 4, 3, 5, 3, 3, 3, 5, 8, 3, 3, #Shape Attributes\n",
    "    8, 8, 8, #Fabric Attributes\n",
    "    8, 8, 8 #Color Attributes\n",
    "]\n",
    "\n",
    "# Classifier with 18 forks (For each of the 18 attribute categories)\n",
    "class AttributeClassifier(torch.nn.Module):\n",
    "    def __init__(self, in_features) -> None:\n",
    "        super().__init__()\n",
    "        self.forks = torch.nn.ModuleList()\n",
    "        for class_count in attribute_classes:\n",
    "            fork = torch.nn.Linear(in_features=in_features, out_features=class_count)\n",
    "            self.forks.append(fork)\n",
    "    \n",
    "    def forward(self, x):\n",
    "        out = []\n",
    "        for index,fork in enumerate(self.forks):\n",
    "            out_fork = fork(x) #Classification\n",
    "            out.append(out_fork)\n",
    "        return out\n",
    "\n",
    "# Model definition\n",
    "class ClassifierModel(torch.nn.Module):\n",
    "    def __init__(self, backbone, backbone_out_features) -> None:\n",
    "        super().__init__()\n",
    "        self.backbone = backbone\n",
    "        self.classifier = AttributeClassifier(backbone_out_features)\n",
    "    \n",
    "    def forward(self, x):\n",
    "        out = self.backbone(x)\n",
    "        out = self.classifier(out)\n",
    "        return out\n",
    "\n",
    "transformer_attribute_model = ClassifierModel(backbone, 768)\n",
    "transformer_attribute_model.to(device)\n",
    "\n",
    "#Freeze all params in backbone\n",
    "for param in transformer_attribute_model.backbone.parameters():\n",
    "    param.requires_grad = False\n",
    "\n",
    "summary(transformer_attribute_model, (3, 329, 224))"
   ]
  },
  {
   "cell_type": "code",
   "execution_count": null,
   "metadata": {},
   "outputs": [],
   "source": [
    "# Training transformer model (with all layers frozen)\n",
    "\n",
    "epochs = 5\n",
    "learning_rate = 1e-3\n",
    "loss_func = torch.nn.CrossEntropyLoss()\n",
    "optimizer = torch.optim.AdamW(transformer_attribute_model.classifier.parameters(), lr=learning_rate)\n",
    "\n",
    "train_loss_history, train_acc_history, val_loss_history, val_acc_history = fit_classifier(\n",
    "    transformer_attribute_model, \n",
    "    train_loader=train_loader, \n",
    "    val_loader=val_loader,\n",
    "    attributes=attribute_classes,\n",
    "    optimizer=optimizer, \n",
    "    loss_func=loss_func, \n",
    "    epochs=epochs, \n",
    "    device=device,\n",
    "    name='transformer_frozen'\n",
    ")\n"
   ]
  },
  {
   "cell_type": "code",
   "execution_count": null,
   "metadata": {},
   "outputs": [],
   "source": [
    "# Defining the baseline model (ResNet-34 CNN)\n",
    "resnet_backbone = torchvision.models.resnet34(weights=torchvision.models.ResNet34_Weights.IMAGENET1K_V1)\n",
    "\n",
    "# Remove Classifier Head\n",
    "resnet_backbone.fc = torch.nn.Identity()\n",
    "\n",
    "# Initialize Baseline Classifier and freeze weights\n",
    "resnet_attribute_model = ClassifierModel(resnet_backbone, 512)\n",
    "\n",
    "for param in resnet_attribute_model.backbone.parameters():\n",
    "    param.requires_grad = False\n",
    "resnet_attribute_model.to(device)\n",
    "\n",
    "summary(resnet_attribute_model, (3, 329, 224))\n"
   ]
  },
  {
   "cell_type": "code",
   "execution_count": null,
   "metadata": {},
   "outputs": [],
   "source": [
    "# Training baseline model (with all layers frozen)\n",
    "\n",
    "epochs = 5\n",
    "learning_rate = 1e-3\n",
    "loss_func = torch.nn.CrossEntropyLoss()\n",
    "optimizer = torch.optim.AdamW(resnet_attribute_model.classifier.parameters(), lr=learning_rate)\n",
    "\n",
    "train_loss_history_baseline, train_acc_history_baseline, val_loss_history_baseline, val_acc_history_baseline = fit_classifier(\n",
    "    resnet_attribute_model, \n",
    "    train_loader=train_loader, \n",
    "    val_loader=val_loader,\n",
    "    attributes=attribute_classes,\n",
    "    optimizer=optimizer, \n",
    "    loss_func=loss_func, \n",
    "    epochs=epochs, \n",
    "    device=device,\n",
    "    name='resnet_frozen'\n",
    ")"
   ]
  },
  {
   "cell_type": "code",
   "execution_count": null,
   "metadata": {},
   "outputs": [],
   "source": [
    "#load the previous best saved models\n",
    "transformer_attribute_model.load_state_dict(\n",
    "    torch.load('./models/transformer_frozen_attribute_model.pth')['model_state_dict']\n",
    ")\n",
    "\n",
    "resnet_attribute_model.load_state_dict(\n",
    "    torch.load('./models/resnet_frozen_attribute_model.pth')['model_state_dict']\n",
    ")"
   ]
  },
  {
   "cell_type": "code",
   "execution_count": null,
   "metadata": {},
   "outputs": [],
   "source": [
    "# Fine tune transformer model\n",
    "\n",
    "#Freeze all parameters\n",
    "for param in transformer_attribute_model.parameters():\n",
    "    param.requires_grad = False\n",
    "    \n",
    "#Unfreeze classifier and some swin transformer blocks\n",
    "for param in transformer_attribute_model.backbone.features[6:].parameters():\n",
    "    param.requires_grad = True\n",
    "\n",
    "for param in transformer_attribute_model.backbone.norm.parameters():\n",
    "    param.requires_grad = True\n",
    "    \n",
    "for param in transformer_attribute_model.backbone.avgpool.parameters():\n",
    "    param.requires_grad = True\n",
    "\n",
    "for param in transformer_attribute_model.classifier.parameters():\n",
    "    param.requires_grad = True\n",
    "\n",
    "summary(transformer_attribute_model, (3, 329, 224))"
   ]
  },
  {
   "cell_type": "code",
   "execution_count": null,
   "metadata": {},
   "outputs": [],
   "source": [
    "epochs = 5\n",
    "learning_rate = 1e-4\n",
    "loss_func = torch.nn.CrossEntropyLoss()\n",
    "custom_params_list = []\n",
    "\n",
    "for param in transformer_attribute_model.parameters():\n",
    "    if param.requires_grad:\n",
    "        custom_params_list.append(param)\n",
    "        \n",
    "optimizer = torch.optim.AdamW(custom_params_list, lr=learning_rate)\n",
    "\n",
    "train_loss_history, train_acc_history, val_loss_history, val_acc_history = fit_classifier(\n",
    "    transformer_attribute_model, \n",
    "    train_loader=train_loader, \n",
    "    val_loader=val_loader,\n",
    "    attributes=attribute_classes,\n",
    "    optimizer=optimizer, \n",
    "    loss_func=loss_func, \n",
    "    epochs=epochs, \n",
    "    initial_epoch = 5,\n",
    "    device=device,\n",
    "    name='transformer_semi_frozen'\n",
    ")\n"
   ]
  },
  {
   "cell_type": "code",
   "execution_count": null,
   "metadata": {},
   "outputs": [],
   "source": [
    "# Fine tune resnet model by unfreezing layer4 and classifier\n",
    "\n",
    "# Freeze all parameters\n",
    "for param in resnet_attribute_model.parameters():\n",
    "    param.requires_grad = False\n",
    "    \n",
    "# Unfreeze classifier and layer4\n",
    "for name, param in resnet_attribute_model.named_parameters():\n",
    "    if name.find(\"classifier\") != -1 or name.find(\"layer4\") != -1:\n",
    "        param.requires_grad = True\n",
    "    \n",
    "summary(resnet_attribute_model, (3, 329, 244))"
   ]
  },
  {
   "cell_type": "code",
   "execution_count": null,
   "metadata": {},
   "outputs": [],
   "source": [
    "epochs = 5\n",
    "learning_rate = 1e-4\n",
    "loss_func = torch.nn.CrossEntropyLoss()\n",
    "custom_params_list = []\n",
    "\n",
    "for param in resnet_attribute_model.parameters():\n",
    "    if param.requires_grad:\n",
    "        custom_params_list.append(param)\n",
    "\n",
    "optimizer = torch.optim.AdamW(custom_params_list, lr=learning_rate)\n",
    "\n",
    "train_loss_history_baseline, train_acc_history_baseline, val_loss_history_baseline, val_acc_history_baseline = fit_classifier(\n",
    "    resnet_attribute_model, \n",
    "    train_loader=train_loader, \n",
    "    val_loader=val_loader,\n",
    "    attributes=attribute_classes,\n",
    "    optimizer=optimizer, \n",
    "    loss_func=loss_func, \n",
    "    epochs=epochs, \n",
    "    initial_epoch = 5,\n",
    "    device=device,\n",
    "    name='resnet_semi_frozen'\n",
    ")"
   ]
  },
  {
   "cell_type": "code",
   "execution_count": null,
   "metadata": {},
   "outputs": [],
   "source": [
    "# Unfreeze all layers of transformer attribute model\n",
    "\n",
    "for param in transformer_attribute_model.parameters():\n",
    "    param.requires_grad = True"
   ]
  },
  {
   "cell_type": "code",
   "execution_count": null,
   "metadata": {},
   "outputs": [],
   "source": [
    "# Fine tune transformer model on all parameters\n",
    "\n",
    "epochs = 5\n",
    "learning_rate = 1e-4\n",
    "loss_func = torch.nn.CrossEntropyLoss()\n",
    "optimizer = torch.optim.AdamW(transformer_attribute_model.parameters(), lr=learning_rate)\n",
    "\n",
    "train_loss_history, train_acc_history, val_loss_history, val_acc_history = fit_classifier(\n",
    "    transformer_attribute_model, \n",
    "    train_loader=train_loader, \n",
    "    val_loader=val_loader,\n",
    "    attributes=attribute_classes,\n",
    "    optimizer=optimizer, \n",
    "    loss_func=loss_func, \n",
    "    epochs=epochs,\n",
    "    initial_epoch = 10,\n",
    "    device=device,\n",
    "    name='transformer_unfreeze'\n",
    ")"
   ]
  },
  {
   "cell_type": "code",
   "execution_count": null,
   "metadata": {},
   "outputs": [],
   "source": [
    "print(resnet_attribute_model)"
   ]
  },
  {
   "cell_type": "code",
   "execution_count": null,
   "metadata": {},
   "outputs": [],
   "source": [
    "# Unfreeze all layers of resnet attribute model\n",
    "\n",
    "for param in resnet_attribute_model.parameters():\n",
    "    param.requires_grad = True\n",
    "    \n",
    "#summary(resnet_attribute_model, (3, 329, 244))"
   ]
  },
  {
   "cell_type": "code",
   "execution_count": null,
   "metadata": {},
   "outputs": [],
   "source": [
    "# Fine tune resnet model on all parameters\n",
    "\n",
    "epochs = 5\n",
    "learning_rate = 1e-4\n",
    "loss_func = torch.nn.CrossEntropyLoss()\n",
    "optimizer = torch.optim.AdamW(resnet_attribute_model.parameters(), lr=learning_rate)\n",
    "\n",
    "train_loss_history_baseline, train_acc_history_baseline, val_loss_history_baseline, val_acc_history_baseline = fit_classifier(\n",
    "    resnet_attribute_model, \n",
    "    train_loader=train_loader, \n",
    "    val_loader=val_loader,\n",
    "    attributes=attribute_classes,\n",
    "    optimizer=optimizer, \n",
    "    loss_func=loss_func, \n",
    "    epochs=epochs,\n",
    "    initial_epoch = 10,\n",
    "    device=device,\n",
    "    name='resnet_unfreeze'\n",
    ")"
   ]
  }
 ],
 "metadata": {
  "kernelspec": {
   "display_name": "Python 3 (ipykernel)",
   "language": "python",
   "name": "python3"
  },
  "language_info": {
   "codemirror_mode": {
    "name": "ipython",
    "version": 3
   },
   "file_extension": ".py",
   "mimetype": "text/x-python",
   "name": "python",
   "nbconvert_exporter": "python",
   "pygments_lexer": "ipython3",
   "version": "3.9.12"
  },
  "vscode": {
   "interpreter": {
    "hash": "4da46fc40f1915703b38afd3791e6a316bca5498ac50c4dc99c37cd966af4760"
   }
  }
 },
 "nbformat": 4,
 "nbformat_minor": 2
}
