{
 "cells": [
  {
   "cell_type": "markdown",
   "id": "836b6d14",
   "metadata": {},
   "source": [
    "# Captioning Model\n",
    "\n",
    "This notebook will contain the code to train the captioning models (decoders). We load the encoders that were pre-trained on the 18-attribute data. We compare a LSTM decoder with a (refining) transformer decoder architecture."
   ]
  },
  {
   "cell_type": "code",
   "execution_count": null,
   "id": "5df90d0c",
   "metadata": {
    "scrolled": true
   },
   "outputs": [],
   "source": [
    "import utils.load_funcs\n",
    "import json\n",
    "import torch,torchvision\n",
    "from torch import nn\n",
    "from torchsummary import summary\n",
    "device = 'cpu'\n",
    "if torch.cuda.is_available():\n",
    "    device = 'cuda'\n",
    "\n",
    "print(device)"
   ]
  },
  {
   "cell_type": "code",
   "execution_count": null,
   "id": "5e047de4",
   "metadata": {
    "scrolled": true
   },
   "outputs": [],
   "source": [
    "# Load Data\n",
    "train_loader, val_loader = utils.load_funcs.get_data_loaders()\n",
    "images, labels, captions = next(iter(train_loader))\n",
    "print(images.shape)\n",
    "print(labels.shape)\n",
    "print(captions, captions.shape)"
   ]
  },
  {
   "cell_type": "code",
   "execution_count": null,
   "id": "9300ff94",
   "metadata": {},
   "outputs": [],
   "source": [
    "train_loader.dataset.captions.head()"
   ]
  },
  {
   "cell_type": "code",
   "execution_count": null,
   "id": "cfaea9eb",
   "metadata": {},
   "outputs": [],
   "source": [
    "# Get the tokenizer and vocab dictionary\n",
    "tokenizer = train_loader.dataset.tokenizer\n",
    "vocab = json.loads(tokenizer.get_config()['index_word'])\n",
    "vocab = {v: int(k)-1 for k, v in vocab.items()}\n",
    "print(vocab)\n",
    "print('Vocab Length: ', len(vocab))"
   ]
  },
  {
   "cell_type": "code",
   "execution_count": null,
   "id": "c4d65e94",
   "metadata": {
    "scrolled": true
   },
   "outputs": [],
   "source": [
    "# Define Classes for Encoder (Classifier)/Decoder\n",
    "class AttributeClassifier(torch.nn.Module):\n",
    "    def __init__(self, in_features) -> None:\n",
    "        super().__init__()\n",
    "        self.forks = torch.nn.ModuleList()\n",
    "        for class_count in attribute_classes:\n",
    "            fork = torch.nn.Linear(in_features=in_features, out_features=class_count)\n",
    "            self.forks.append(fork)\n",
    "    \n",
    "    def forward(self, x):\n",
    "        out = []\n",
    "        for index,fork in enumerate(self.forks):\n",
    "            out_fork = fork(x) #Classification\n",
    "            out.append(out_fork)\n",
    "        return out\n",
    "\n",
    "class ClassifierModel(torch.nn.Module):\n",
    "    def __init__(self, backbone, backbone_out_features) -> None:\n",
    "        super().__init__()\n",
    "        self.backbone = backbone\n",
    "        self.classifier = AttributeClassifier(backbone_out_features)\n",
    "    \n",
    "    def forward(self, x):\n",
    "        out = self.backbone(x)\n",
    "        out = self.classifier(out)\n",
    "        return out\n",
    "\n",
    "# Define LSTM Decoder\n",
    "class DecoderRNN(nn.Module):\n",
    "    def __init__(self, embed_size, feature_size, hidden_size, vocab_size, num_layers=1):\n",
    "        super(DecoderRNN, self).__init__()\n",
    "        \n",
    "        # define the properties\n",
    "        self.embed_size = embed_size\n",
    "        self.hidden_size = hidden_size\n",
    "        self.vocab_size = vocab_size\n",
    "        \n",
    "        # embedding layer\n",
    "        self.embed = nn.Embedding(num_embeddings=self.vocab_size, embedding_dim=self.embed_size)\n",
    "        \n",
    "        # lstm cell\n",
    "        self.lstm_cell = nn.LSTMCell(input_size=embed_size+feature_size, hidden_size=hidden_size)\n",
    "    \n",
    "        # output fully connected layer\n",
    "        self.fc_out = nn.Linear(in_features=self.hidden_size, out_features=self.vocab_size)\n",
    "    \n",
    "    def forward(self, features, captions, mode='train'):\n",
    "        # batch size\n",
    "        batch_size = features.size(0)\n",
    "        features = torch.unsqueeze(features, dim=1)\n",
    "        # init the hidden and cell states to zeros\n",
    "        hidden_state = torch.zeros((batch_size, self.hidden_size)).to(device, non_blocking=True)\n",
    "        cell_state = torch.zeros((batch_size, self.hidden_size)).to(device, non_blocking=True)\n",
    "        max_caption_length = 109\n",
    "        \n",
    "        # define the output tensor placeholder\n",
    "        outputs = torch.zeros((batch_size, max_caption_length - 1, self.vocab_size)).to(device, non_blocking=True)\n",
    "        # Embedding the captions\n",
    "        embeddings = self.embed(captions.int())\n",
    "        # Concat Embeddings with features\n",
    "        embeddings = torch.cat((features.expand((-1, embeddings.shape[1], -1)), embeddings), dim = -1) #shape = (batch_size, 95, 768+512=1280)\n",
    "        # Pass the caption word by word in train mode\n",
    "        if mode == 'train':\n",
    "            #embeddings = torch.roll(embeddings, shifts=-1, dims=-1)\n",
    "            for t in range(outputs.size(1)):\n",
    "                hidden_state, cell_state = self.lstm_cell(embeddings[:, t, :], (hidden_state, cell_state))\n",
    "                out = self.fc_out(hidden_state)\n",
    "                # build the output tensor\n",
    "                outputs[:, t, :] = out\n",
    "        # In test mode, we generate until length = max_caption_length\n",
    "        else:\n",
    "            t = 0\n",
    "            while t < max_caption_length:\n",
    "                # First time step - feed <sos> token\n",
    "                if t == 0:\n",
    "                    hidden_state, cell_state = self.lstm_cell(embeddings[:, 0, :], (hidden_state, cell_state))\n",
    "                else:\n",
    "                    prev_output = outputs[:, t-1, :]\n",
    "                    prev_output = torch.argmax(prev_output, dim=-1)\n",
    "                    prev_output = self.embed(prev_output.int())\n",
    "                    prev_output = torch.cat((features, prev_output), dim=-1)\n",
    "                    hidden_state, cell_state = self.lstm_cell(prev_output, (hidden_state, cell_state))\n",
    "                out = self.fc_out(hidden_state)\n",
    "                outputs[:, t, :] = out\n",
    "        return outputs\n",
    "\n",
    "# Define Full Captioning Model Class which has a encoder+decoder\n",
    "class CaptionModel(nn.Module):\n",
    "    def __init__(self, encoder, decoder, vocab) -> None:\n",
    "        super().__init__()\n",
    "        self.encoder = encoder\n",
    "        self.decoder = decoder\n",
    "        self.vocab = vocab\n",
    "    \n",
    "    def forward(self, images, captions, mode='train'):\n",
    "        features = self.encoder(images)\n",
    "        if mode != 'train':\n",
    "            start_token = self.vocab['sos']\n",
    "            captions = torch.full((images.shape[0],1), fill_value=start_token)\n",
    "        out = self.decoder(features, captions, mode)\n",
    "        return out"
   ]
  },
  {
   "cell_type": "code",
   "execution_count": null,
   "id": "a4cd0587",
   "metadata": {
    "scrolled": true
   },
   "outputs": [],
   "source": [
    "# Initialize decoder\n",
    "LSTM_decoder = DecoderRNN(embed_size=512, feature_size=768, hidden_size=512, vocab_size=len(vocab), num_layers=3)"
   ]
  },
  {
   "cell_type": "code",
   "execution_count": null,
   "id": "212edfb2",
   "metadata": {
    "scrolled": true
   },
   "outputs": [],
   "source": [
    "# Check number of parameters\n",
    "pytorch_total_params = sum(p.numel() for p in LSTM_decoder.parameters() if p.requires_grad)\n",
    "print(pytorch_total_params)"
   ]
  },
  {
   "cell_type": "code",
   "execution_count": null,
   "id": "421e6199",
   "metadata": {
    "scrolled": true
   },
   "outputs": [],
   "source": [
    "# Load trained encoder(s)\n",
    "attribute_classes = [\n",
    "    6, 5, 4, 3, 5, 3, 3, 3, 5, 8, 3, 3, #Shape Attributes\n",
    "    8, 8, 8, #Fabric Attributes\n",
    "    8, 8, 8 #Color Attributes\n",
    "]\n",
    "\n",
    "backbone = torchvision.models.swin_t()\n",
    "backbone.head = torch.nn.Identity()\n",
    "transformer_encoder = ClassifierModel(backbone, 768)\n",
    "# We load the transformer attribute prediction model which had ~0.9 accuracy\n",
    "transformer_encoder.load_state_dict(\n",
    "    torch.load('./models/transformer_unfreeze_attribute_model.pth')['model_state_dict']\n",
    ")"
   ]
  },
  {
   "cell_type": "code",
   "execution_count": null,
   "id": "6e07b96e",
   "metadata": {
    "scrolled": false
   },
   "outputs": [],
   "source": [
    "# Drop Classifier Head and just keep feature extractor (backbone)\n",
    "transformer_encoder = transformer_encoder.backbone\n",
    "# Freeze params\n",
    "for param in transformer_encoder.parameters():\n",
    "    param.requires_grad = False\n",
    "transformer_caption_model = CaptionModel(transformer_encoder, LSTM_decoder, vocab)\n",
    "print(transformer_caption_model)"
   ]
  },
  {
   "cell_type": "code",
   "execution_count": null,
   "id": "5620cb2a",
   "metadata": {
    "scrolled": true
   },
   "outputs": [],
   "source": [
    "# Training the model\n",
    "from utils.train_funcs import fit\n",
    "\n",
    "epochs = 3\n",
    "learning_rate = 1e-3\n",
    "loss_func = torch.nn.CrossEntropyLoss()\n",
    "optimizer = torch.optim.AdamW(transformer_caption_model.decoder.parameters(), lr=learning_rate)\n",
    "\n",
    "fit(\n",
    "    transformer_caption_model,\n",
    "    train_loader,\n",
    "    val_loader,\n",
    "    vocab,\n",
    "    optimizer,\n",
    "    loss_func,\n",
    "    epochs,\n",
    "    device,\n",
    "    name='rnn_decoder'\n",
    ")"
   ]
  },
  {
   "cell_type": "code",
   "execution_count": null,
   "id": "ff51968d",
   "metadata": {},
   "outputs": [],
   "source": []
  }
 ],
 "metadata": {
  "kernelspec": {
   "display_name": "Python 3 (ipykernel)",
   "language": "python",
   "name": "python3"
  },
  "language_info": {
   "codemirror_mode": {
    "name": "ipython",
    "version": 3
   },
   "file_extension": ".py",
   "mimetype": "text/x-python",
   "name": "python",
   "nbconvert_exporter": "python",
   "pygments_lexer": "ipython3",
   "version": "3.8.15"
  }
 },
 "nbformat": 4,
 "nbformat_minor": 5
}
